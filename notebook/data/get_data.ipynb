{
 "cells": [
  {
   "cell_type": "code",
   "execution_count": 8,
   "id": "53c8a9ee",
   "metadata": {},
   "outputs": [],
   "source": [
    "import pandas as pd\n",
    "import datetime"
   ]
  },
  {
   "cell_type": "markdown",
   "id": "7f80cd05",
   "metadata": {},
   "source": [
    "# Retrive data"
   ]
  },
  {
   "cell_type": "markdown",
   "id": "83e49c73",
   "metadata": {},
   "source": [
    "Download the **transactions data** here : https://storage.cloud.google.com/cerebra_sales_data/uniqlo/parquet_files/consolidated/transformed_transaction_lines.parquet\n",
    "\n",
    "Download the **inventory data**,  you can use the file with the latest date suffix ( will be used for other purposes later ) :\n",
    "https://console.cloud.google.com/storage/browser/cerebra_sales_data/uniqlo/metrics/invent[…]B%255D%22))&prefix=&forceOnObjectsSortingFiltering=false"
   ]
  },
  {
   "cell_type": "markdown",
   "id": "8b0ef48c",
   "metadata": {},
   "source": [
    "# Preprocess data"
   ]
  },
  {
   "cell_type": "code",
   "execution_count": 17,
   "id": "d78e4271",
   "metadata": {},
   "outputs": [],
   "source": [
    "def get_processed_data(df, number= \"100k\"):\n",
    "    \n",
    "    COL_USER = \"customer_id\"\n",
    "    COL_ITEM = \"variant_id\"\n",
    "    COL_TIME = \"order_date\"\n",
    "    date_limit = datetime.datetime(2021,1,1)\n",
    "\n",
    "    if number == \"100k\" :\n",
    "        DATA_SIZE = 100000 \n",
    "    elif number == \"1M\":\n",
    "        DATA_SIZE = 1000000\n",
    "    elif number == \"all\":\n",
    "        DATA_SIZE = 42\n",
    "        \n",
    "    # remove row with no customer_id \n",
    "    df = df[(~df[COL_USER].isna()) &(df[COL_USER] != 'nan')].copy()\n",
    "    # groupby col_user and col_item\n",
    "    df = df.groupby([COL_USER,COL_ITEM]).agg({\"quantity\": 'sum', COL_TIME: 'max'}).reset_index()\n",
    "    \n",
    "    if number != \"all\":\n",
    "        # groupby and sort by the number of transaction\n",
    "        number_transaction = df.groupby(COL_USER).agg({COL_ITEM: 'count'}).reset_index()\n",
    "        number_transaction.columns = [COL_USER, 'nb_transaction']\n",
    "        number_transaction = number_transaction.sort_values(by=['nb_transaction'], ascending=False)\n",
    "        # filter by customer_after_date\n",
    "        customer_after_date_limit = df[df[COL_TIME] > date_limit][COL_USER]\n",
    "        number_transaction = number_transaction[number_transaction[COL_USER].isin(customer_after_date_limit)]\n",
    "        # filter by number \n",
    "        number_transaction = number_transaction[(number_transaction[\"nb_transaction\"]<=300)]\n",
    "        number_transaction = number_transaction[(number_transaction[\"nb_transaction\"]>=10)]\n",
    "        # cumsum\n",
    "        number_transaction[\"nb_transaction_cumsum\"] = number_transaction[\"nb_transaction\"].cumsum()\n",
    "        number_transaction = number_transaction[number_transaction[\"nb_transaction_cumsum\"]<DATA_SIZE]\n",
    "        # filter customer_id \n",
    "        df = df[df[COL_USER].isin(number_transaction[COL_USER])]\n",
    "        \n",
    "        # to make sure we have the right amount of data\n",
    "        if DATA_SIZE - len(df) > 10000:\n",
    "            print(\"Modify the filter on nb_transaction. The number of data in df is not correct\")\n",
    "    \n",
    "    return df "
   ]
  },
  {
   "cell_type": "markdown",
   "id": "2230954a",
   "metadata": {},
   "source": [
    "# Load and save preprocessed data"
   ]
  },
  {
   "cell_type": "code",
   "execution_count": 15,
   "id": "8ef6465a",
   "metadata": {},
   "outputs": [],
   "source": [
    "######## TO MODIFY ###########\n",
    "path_to_transactions_df = 'uniqlo_parquet_files_consolidated_transformed_transaction_lines.parquet'\n",
    "#############################\n",
    "\n",
    "transactions_df = pd.read_parquet(path_to_transactions_df,engine=\"pyarrow\")\n",
    "\n",
    "for number in [\"100k\",\"1M\",\"all\"]:\n",
    "    df = get_processed_data(transactions_df,number)\n",
    "    df.to_pickle(f'transaction_{number}_df.pkl')"
   ]
  }
 ],
 "metadata": {
  "kernelspec": {
   "display_name": "Python 3",
   "language": "python",
   "name": "python3"
  },
  "language_info": {
   "codemirror_mode": {
    "name": "ipython",
    "version": 3
   },
   "file_extension": ".py",
   "mimetype": "text/x-python",
   "name": "python",
   "nbconvert_exporter": "python",
   "pygments_lexer": "ipython3",
   "version": "3.6.13"
  }
 },
 "nbformat": 4,
 "nbformat_minor": 5
}
