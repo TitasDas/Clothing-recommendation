{
 "cells": [
  {
   "cell_type": "markdown",
   "id": "f4cf40f7",
   "metadata": {},
   "source": [
    "# ALS"
   ]
  },
  {
   "cell_type": "code",
   "execution_count": 1,
   "id": "8b2a9ab0",
   "metadata": {},
   "outputs": [
    {
     "name": "stdout",
     "output_type": "stream",
     "text": [
      "System version: 3.7.10 | packaged by conda-forge | (default, Oct 13 2021, 20:45:05) \n",
      "[Clang 11.1.0 ]\n",
      "Pandas version: 1.1.5\n"
     ]
    }
   ],
   "source": [
    "# set the environment path to find Recommenders\n",
    "import os \n",
    "os.environ['OPENBLAS_NUM_THREADS'] = '1'\n",
    "os.environ['MKL_NUM_THREADS'] = '1'\n",
    "import sys\n",
    "import pandas as pd\n",
    "import implicit\n",
    "import numpy as np\n",
    "import scipy.sparse as sparse\n",
    "from functools import wraps\n",
    "from tqdm.notebook import tqdm\n",
    "from matplotlib import pyplot as plt\n",
    "import seaborn as sns\n",
    "from recommenders.evaluation.python_evaluation import map_at_k, ndcg_at_k, precision_at_k, recall_at_k, diversity, novelty, serendipity, distributional_coverage, catalog_coverage \n",
    "from recommenders.tuning.parameter_sweep import generate_param_grid\n",
    "from recommenders.utils.timer import Timer\n",
    "\n",
    "print(\"System version: {}\".format(sys.version))\n",
    "print(\"Pandas version: {}\".format(pd.__version__))"
   ]
  },
  {
   "cell_type": "code",
   "execution_count": 2,
   "id": "b3678da2",
   "metadata": {},
   "outputs": [],
   "source": [
    "#utils\n",
    "\n",
    "# results table\n",
    "cols = [\"Data\", \"Algo\", \"K\", \"Train time (s)\",\"Predicting time (s)\", \"RMSE\", \"MAE\", \"R2\", \"Explained Variance\", \"Recommending time (s)\", \"MAP\", \"nDCG@k\", \"Precision@k\", \"Recall@k\",\"Diversity\",\"Novelty\",\"Distributional coverage\",\"Catalog coverage\"]\n",
    "df_results = pd.DataFrame(columns=cols)\n",
    "\n",
    "def generate_summary(data, algo, k, train_time, rating_time, rating_metrics, ranking_time, ranking_metrics, diversity_metrics):\n",
    "    summary = {\"Data\": data, \"Algo\": algo, \"K\": k, \"Train time (s)\": train_time, \"Predicting time (s)\": rating_time, \"Recommending time (s)\":ranking_time}\n",
    "    if rating_metrics is None:\n",
    "        rating_metrics = {\n",
    "            \"RMSE\": np.nan,\n",
    "            \"MAE\": np.nan,\n",
    "            \"R2\": np.nan,\n",
    "            \"Explained Variance\": np.nan,\n",
    "        }\n",
    "    if ranking_metrics is None:\n",
    "        ranking_metrics = {\n",
    "            \"MAP\": np.nan,\n",
    "            \"nDCG@k\": np.nan,\n",
    "            \"Precision@k\": np.nan,\n",
    "            \"Recall@k\": np.nan,\n",
    "        }\n",
    "    if diversity_metrics is None:\n",
    "        diversity_metrics = {\n",
    "        \"Diversity\": np.nan,\n",
    "        \"Novelty\": np.nan,\n",
    "        \"Distributional coverage\": np.nan,\n",
    "        \"Catalog coverage\": np.nan,\n",
    "    }\n",
    "    summary.update(diversity_metrics)\n",
    "    summary.update(rating_metrics)\n",
    "    summary.update(ranking_metrics)\n",
    "\n",
    "    return summary\n",
    "\n",
    "\n",
    "def convert_timestamp(datetime):\n",
    "    date_string = str(datetime)\n",
    "    date = datetime.datetime.strptime(date_string, \"%m/%d/%Y\")\n",
    "    timestamp = datetime.datetime.timestamp(date)\n",
    "    return(timestamp)\n",
    "\n",
    "def preprocess_data(df):\n",
    "    # Convert the float precision to 32-bit in order to reduce memory consumption \n",
    "    df.loc[:, header[\"col_rating\"]] = df[header[\"col_rating\"]].astype(np.float32)\n",
    "    # Convert to timestamp\n",
    "    df[header[\"col_timestamp\"]] = df[header[\"col_timestamp\"]].apply(lambda x: int(pd.to_datetime(pd.Timestamp(x), unit='s').strftime('%s')))\n",
    "    # select only relevant cols\n",
    "    df[header[\"col_user\"]] = df[header[\"col_user\"]].map(map_customer)\n",
    "    # map col_item to int\n",
    "    df.loc[:, header[\"col_item\"]] = df[header[\"col_item\"]].astype(int)\n",
    "    # select only relevant cols\n",
    "    df = df[[header[\"col_user\"],header[\"col_item\"],header[\"col_rating\"],header[\"col_timestamp\"]]]\n",
    "    return df \n",
    "\n",
    "def timing(f):\n",
    "    @wraps(f)\n",
    "    def wrap(*args, **kw):\n",
    "        ts = time()\n",
    "        result = f(*args, **kw)\n",
    "        te = time()\n",
    "        arg = args[0] if len(args)>=1 else \"\" \n",
    "        print('func:%r  took: %2.4f sec' % \\\n",
    "          (f.__name__, te-ts))\n",
    "        return result\n",
    "    return wrap\n"
   ]
  },
  {
   "cell_type": "markdown",
   "id": "183e6822",
   "metadata": {},
   "source": [
    "# 0. Config params"
   ]
  },
  {
   "cell_type": "code",
   "execution_count": 4,
   "id": "5bec4f35",
   "metadata": {},
   "outputs": [],
   "source": [
    "# table results \n",
    "algo = \"als_cython\"\n",
    "ranking_metrics = None\n",
    "rating_metrics = None\n",
    "diversity_metrics = None\n",
    "train_time = np.nan\n",
    "rating_time = np.nan\n",
    "ranking_time = np.nan\n",
    "\n",
    "# column name \n",
    "header = {\n",
    "    \"col_user\": \"customer_id\",\n",
    "    \"col_item\": \"variant_id\",\n",
    "    \"col_rating\": \"quantity\",\n",
    "    \"col_timestamp\": \"order_date\",\n",
    "    \"col_prediction\": \"prediction\",\n",
    "}\n",
    "\n",
    "# top k\n",
    "TOP_K = 10\n",
    "\n",
    "################ TO MODIFY ################\n",
    "\n",
    "# date size with 3 choices : \"100k\",\"1M\" and \"all\"\n",
    "data_size = \"100k\"\n",
    "# load splitted data \n",
    "load_splitted_data = True \n",
    "\n",
    "################ TO MODIFY ################"
   ]
  },
  {
   "cell_type": "markdown",
   "id": "85843a9e",
   "metadata": {},
   "source": [
    "# 1. Data"
   ]
  },
  {
   "cell_type": "markdown",
   "id": "80d2f5a6",
   "metadata": {},
   "source": [
    "# 1.1 Load data "
   ]
  },
  {
   "cell_type": "code",
   "execution_count": 5,
   "id": "8d2dd7a3",
   "metadata": {},
   "outputs": [],
   "source": [
    "########### TO MODIFY ###########\n",
    "def load_data(data_size):\n",
    "    path = \"\"\n",
    "    if data_size==\"100k\":\n",
    "        path = '../../data/transaction_100k_df.pkl'\n",
    "    elif data_size==\"1M\":\n",
    "        path = '../../data/transaction_1M_df.pkl'\n",
    "    elif data_size==\"all\":\n",
    "        path = '../../data/transaction_all_df.pkl'\n",
    "    \n",
    "    if path != \"\":\n",
    "        return pd.read_pickle(path)\n",
    "    else :\n",
    "        print(\"Please choose between 100k, 1M and all\")\n",
    "########### TO MODIFY ###########"
   ]
  },
  {
   "cell_type": "code",
   "execution_count": 6,
   "id": "3d8cb062",
   "metadata": {},
   "outputs": [],
   "source": [
    "# 2 ways to load the data\n",
    "if not load_splitted_data : \n",
    "    # data not splitted \n",
    "    data = load_data(data_size)\n",
    "else :\n",
    "    # or  use stored splitted data to make it faster\n",
    "    train = pd.read_pickle(f\"../../data/train_{data_size}_df.pkl\")\n",
    "    test = pd.read_pickle(f\"../../data/test_{data_size}_df.pkl\")\n",
    "    train.shape[0], test.shape[0]"
   ]
  },
  {
   "cell_type": "markdown",
   "id": "ba13189d",
   "metadata": {},
   "source": [
    "## 1.2 Split the data ( skip if load_splitted_data )"
   ]
  },
  {
   "cell_type": "code",
   "execution_count": 7,
   "id": "103dd729",
   "metadata": {},
   "outputs": [],
   "source": [
    "# chrono split but it is really slow ( +1h to split 8M data ) \n",
    "if not load_splitted_data :\n",
    "    train, test = python_chrono_split(data,\n",
    "                                      ratio=0.75,\n",
    "                                      col_user=header[\"col_user\"],\n",
    "                                      col_item=header[\"col_item\"],\n",
    "                                      col_timestamp = header[\"col_timestamp\"]\n",
    "                                     )\n",
    "    train.to_pickle(f\"../../data/train_{data_size}_df.pkl\")\n",
    "    test.to_pickle(f\"../../data/test_{data_size}_df.pkl\")\n",
    "    train.shape[0], test.shape[0]"
   ]
  },
  {
   "cell_type": "code",
   "execution_count": 8,
   "id": "2c40ed6e",
   "metadata": {},
   "outputs": [
    {
     "name": "stdout",
     "output_type": "stream",
     "text": [
      "\n",
      "Train:\n",
      "Total Ratings: 74944\n",
      "Unique Users: 720\n",
      "Unique Items: 5348\n",
      "\n",
      "Test:\n",
      "Total Ratings: 24983\n",
      "Unique Users: 720\n",
      "Unique Items: 4090\n",
      "\n"
     ]
    }
   ],
   "source": [
    "print(\"\"\"\n",
    "Train:\n",
    "Total Ratings: {train_total}\n",
    "Unique Users: {train_users}\n",
    "Unique Items: {train_items}\n",
    "\n",
    "Test:\n",
    "Total Ratings: {test_total}\n",
    "Unique Users: {test_users}\n",
    "Unique Items: {test_items}\n",
    "\"\"\".format(\n",
    "    train_total=len(train),\n",
    "    train_users=len(train[header[\"col_user\"]].unique()),\n",
    "    train_items=len(train[header[\"col_item\"]].unique()),\n",
    "    test_total=len(test),\n",
    "    test_users=len(test[header[\"col_user\"]].unique()),\n",
    "    test_items=len(test[header[\"col_item\"]].unique()),\n",
    "))"
   ]
  },
  {
   "cell_type": "markdown",
   "id": "cdfb16d6",
   "metadata": {},
   "source": [
    "## 1.3 Process data"
   ]
  },
  {
   "cell_type": "code",
   "execution_count": 9,
   "id": "026039bb",
   "metadata": {},
   "outputs": [],
   "source": [
    "i=0\n",
    "map_customer = {}\n",
    "for customer in train[header[\"col_user\"]]:\n",
    "    if customer not in map_customer:\n",
    "        map_customer[customer]=i\n",
    "        i+=1\n",
    "train = preprocess_data(train)\n",
    "test = preprocess_data(test)\n",
    "\n",
    "sparse_item_user_train = sparse.csr_matrix((train[header[\"col_rating\"]], (train[header[\"col_item\"]], train[header[\"col_user\"]])))\n",
    "sparse_user_item_train = sparse.csr_matrix((train[header[\"col_rating\"]], (train[header[\"col_user\"]], train[header[\"col_item\"]])))"
   ]
  },
  {
   "cell_type": "markdown",
   "id": "d5bd812d",
   "metadata": {},
   "source": [
    "# 2. Model"
   ]
  },
  {
   "cell_type": "markdown",
   "id": "ca0d9ad3",
   "metadata": {},
   "source": [
    "## 2.1 Define model"
   ]
  },
  {
   "cell_type": "code",
   "execution_count": 10,
   "id": "232a2e33-c27f-4164-85bc-503fbbc61b31",
   "metadata": {},
   "outputs": [],
   "source": [
    "model = implicit.als.AlternatingLeastSquares(factors=50,\n",
    "                                            regularization=0.01,\n",
    "                                            iterations=50,\n",
    "                                            calculate_training_loss=False,\n",
    "                                            random_state=42\n",
    "                                            )"
   ]
  },
  {
   "cell_type": "markdown",
   "id": "46f32baa",
   "metadata": {},
   "source": [
    "## 2.2 Train model"
   ]
  },
  {
   "cell_type": "code",
   "execution_count": 11,
   "id": "ef2deb97-5020-4ae6-b442-578060ba7b87",
   "metadata": {},
   "outputs": [
    {
     "data": {
      "application/vnd.jupyter.widget-view+json": {
       "model_id": "4d006f3c2e9341e5a6290173e6d244b7",
       "version_major": 2,
       "version_minor": 0
      },
      "text/plain": [
       "  0%|          | 0/50 [00:00<?, ?it/s]"
      ]
     },
     "metadata": {},
     "output_type": "display_data"
    }
   ],
   "source": [
    "with Timer() as train_time:\n",
    "    alpha_val = 10\n",
    "    data_conf = (sparse_item_user_train * alpha_val).astype('double')\n",
    "    model.fit(data_conf,show_progress=True)"
   ]
  },
  {
   "cell_type": "markdown",
   "id": "5585932a",
   "metadata": {},
   "source": [
    "## 2.4  recommend k items"
   ]
  },
  {
   "cell_type": "code",
   "execution_count": 12,
   "id": "f8a0bf1c-9733-4de5-a2b4-92a7d442a176",
   "metadata": {},
   "outputs": [
    {
     "data": {
      "application/vnd.jupyter.widget-view+json": {
       "model_id": "d0e9973e9a504155b4d45f18d8f5718d",
       "version_major": 2,
       "version_minor": 0
      },
      "text/plain": [
       "  0%|          | 0/720 [00:00<?, ?it/s]"
      ]
     },
     "metadata": {},
     "output_type": "display_data"
    }
   ],
   "source": [
    "users = []\n",
    "items = []\n",
    "predictions = []\n",
    "\n",
    "list_users = train[header[\"col_user\"]].unique()\n",
    "with Timer() as ranking_time:\n",
    "    for user in tqdm(list_users): \n",
    "        recommended = model.recommend(user,\n",
    "                                      sparse_user_item_train,\n",
    "                                      N=TOP_K,\n",
    "                                      filter_already_liked_items=True\n",
    "                                     )\n",
    "        for item in recommended:\n",
    "            idx, score = item\n",
    "            items.append(idx)\n",
    "            predictions.append(score)\n",
    "            users.append(user)\n",
    "\n",
    "    # Create a dataframe of artist names and scores\n",
    "    top_k = pd.DataFrame({header[\"col_user\"]: users,header[\"col_item\"]: items, header[\"col_prediction\"]: predictions})"
   ]
  },
  {
   "cell_type": "markdown",
   "id": "edd824d6",
   "metadata": {},
   "source": [
    "# 3. Evaluate"
   ]
  },
  {
   "cell_type": "markdown",
   "id": "61ecf821",
   "metadata": {},
   "source": [
    "## 3.2 Ranking metrics "
   ]
  },
  {
   "cell_type": "code",
   "execution_count": 13,
   "id": "697236f5-10b2-481f-a7ea-0bb17eda5317",
   "metadata": {},
   "outputs": [
    {
     "name": "stdout",
     "output_type": "stream",
     "text": [
      "Model:\n",
      "Top K:\t\t 10\n",
      "MAP:\t\t 0.006227\n",
      "NDCG:\t\t 0.055221\n",
      "Precision@K:\t 0.051667\n",
      "Recall@K:\t 0.015082\n"
     ]
    }
   ],
   "source": [
    "args = [test, top_k]\n",
    "\n",
    "kwargs = dict(col_user = header[\"col_user\"],\n",
    "              col_item = header[\"col_item\"],\n",
    "              col_rating = header[\"col_rating\"],\n",
    "              col_prediction = header[\"col_prediction\"],\n",
    "              relevancy_method = 'top_k', \n",
    "              k = TOP_K)\n",
    "\n",
    "eval_map = map_at_k(*args, **kwargs)\n",
    "eval_ndcg = ndcg_at_k(*args, **kwargs)\n",
    "eval_precision = precision_at_k(*args, **kwargs)\n",
    "eval_recall = recall_at_k(*args, **kwargs)\n",
    "\n",
    "ranking_metrics = {\n",
    "    \"MAP\": eval_map,\n",
    "    \"nDCG@k\": eval_ndcg,\n",
    "    \"Precision@k\": eval_precision,\n",
    "    \"Recall@k\": eval_recall\n",
    "}\n",
    "\n",
    "print(f\"Model:\",\n",
    "      f\"Top K:\\t\\t {TOP_K}\",\n",
    "      f\"MAP:\\t\\t {eval_map:f}\",\n",
    "      f\"NDCG:\\t\\t {eval_ndcg:f}\",\n",
    "      f\"Precision@K:\\t {eval_precision:f}\",\n",
    "      f\"Recall@K:\\t {eval_recall:f}\",sep='\\n')"
   ]
  },
  {
   "cell_type": "markdown",
   "id": "b13937ac",
   "metadata": {},
   "source": [
    "## 3.2 Diversity metrics"
   ]
  },
  {
   "cell_type": "code",
   "execution_count": 90,
   "id": "0d4828d5-ef75-42f5-834a-2e636f11161f",
   "metadata": {},
   "outputs": [
    {
     "name": "stdout",
     "output_type": "stream",
     "text": [
      "Model:\n",
      "Diversity :\t\t\t 0.9621140669928848\n",
      "Novelty:\t\t\t 10.042972\n",
      "Catalog coverage:\t\t 0.158767\n",
      "Distributional coverage:\t 9.149739\n"
     ]
    }
   ],
   "source": [
    "args = [train, top_k]\n",
    "\n",
    "kwargs = dict(col_user = header[\"col_user\"],\n",
    "              col_item = header[\"col_item\"],\n",
    "             )\n",
    "\n",
    "eval_diversity = diversity(*args, **kwargs)\n",
    "eval_novelty = novelty(*args, **kwargs)\n",
    "eval_distributional_coverage = distributional_coverage(*args, **kwargs)\n",
    "eval_catalog_coverage = catalog_coverage(*args,**kwargs)\n",
    "\n",
    "diversity_metrics = {\n",
    "    \"Diversity\": eval_diversity,\n",
    "    \"Novelty\": eval_novelty,\n",
    "    \"Distributional coverage\": eval_distributional_coverage,\n",
    "    \"Catalog coverage\": eval_catalog_coverage,\n",
    "}\n",
    "\n",
    "print(f\"Model:\",\n",
    "      f\"Diversity :\\t\\t\\t {eval_diversity}\",\n",
    "      f\"Novelty:\\t\\t\\t {eval_novelty:f}\",\n",
    "      f\"Catalog coverage:\\t\\t {eval_catalog_coverage:f}\",\n",
    "      f\"Distributional coverage:\\t {eval_distributional_coverage:f}\",sep='\\n')"
   ]
  },
  {
   "cell_type": "markdown",
   "id": "795124fd",
   "metadata": {},
   "source": [
    "# 4 Summary"
   ]
  },
  {
   "cell_type": "code",
   "execution_count": 91,
   "id": "0ae94a9c",
   "metadata": {},
   "outputs": [
    {
     "data": {
      "text/html": [
       "<div>\n",
       "<style scoped>\n",
       "    .dataframe tbody tr th:only-of-type {\n",
       "        vertical-align: middle;\n",
       "    }\n",
       "\n",
       "    .dataframe tbody tr th {\n",
       "        vertical-align: top;\n",
       "    }\n",
       "\n",
       "    .dataframe thead th {\n",
       "        text-align: right;\n",
       "    }\n",
       "</style>\n",
       "<table border=\"1\" class=\"dataframe\">\n",
       "  <thead>\n",
       "    <tr style=\"text-align: right;\">\n",
       "      <th></th>\n",
       "      <th>Data</th>\n",
       "      <th>Algo</th>\n",
       "      <th>K</th>\n",
       "      <th>Train time (s)</th>\n",
       "      <th>Predicting time (s)</th>\n",
       "      <th>RMSE</th>\n",
       "      <th>MAE</th>\n",
       "      <th>R2</th>\n",
       "      <th>Explained Variance</th>\n",
       "      <th>Recommending time (s)</th>\n",
       "      <th>MAP</th>\n",
       "      <th>nDCG@k</th>\n",
       "      <th>Precision@k</th>\n",
       "      <th>Recall@k</th>\n",
       "      <th>Diversity</th>\n",
       "      <th>Novelty</th>\n",
       "      <th>Distributional coverage</th>\n",
       "      <th>Catalog coverage</th>\n",
       "    </tr>\n",
       "  </thead>\n",
       "  <tbody>\n",
       "    <tr>\n",
       "      <th>1</th>\n",
       "      <td>100k</td>\n",
       "      <td>als_cython</td>\n",
       "      <td>10</td>\n",
       "      <td>3.0065</td>\n",
       "      <td>NaN</td>\n",
       "      <td>NaN</td>\n",
       "      <td>NaN</td>\n",
       "      <td>NaN</td>\n",
       "      <td>NaN</td>\n",
       "      <td>4.2962</td>\n",
       "      <td>0.006227</td>\n",
       "      <td>0.055221</td>\n",
       "      <td>0.051667</td>\n",
       "      <td>0.015082</td>\n",
       "      <td>0.854077</td>\n",
       "      <td>10.217964</td>\n",
       "      <td>9.261189</td>\n",
       "      <td>0.205497</td>\n",
       "    </tr>\n",
       "    <tr>\n",
       "      <th>2</th>\n",
       "      <td>1M</td>\n",
       "      <td>als_cython</td>\n",
       "      <td>10</td>\n",
       "      <td>8.6742</td>\n",
       "      <td>NaN</td>\n",
       "      <td>NaN</td>\n",
       "      <td>NaN</td>\n",
       "      <td>NaN</td>\n",
       "      <td>NaN</td>\n",
       "      <td>135.8204</td>\n",
       "      <td>0.012856</td>\n",
       "      <td>0.038076</td>\n",
       "      <td>0.031262</td>\n",
       "      <td>0.030650</td>\n",
       "      <td>0.920905</td>\n",
       "      <td>10.144708</td>\n",
       "      <td>9.150357</td>\n",
       "      <td>0.234517</td>\n",
       "    </tr>\n",
       "    <tr>\n",
       "      <th>3</th>\n",
       "      <td>all</td>\n",
       "      <td>als_cython</td>\n",
       "      <td>10</td>\n",
       "      <td>326.4773</td>\n",
       "      <td>NaN</td>\n",
       "      <td>NaN</td>\n",
       "      <td>NaN</td>\n",
       "      <td>NaN</td>\n",
       "      <td>NaN</td>\n",
       "      <td>8666.2828</td>\n",
       "      <td>0.070028</td>\n",
       "      <td>0.098556</td>\n",
       "      <td>0.024141</td>\n",
       "      <td>0.160735</td>\n",
       "      <td>0.962114</td>\n",
       "      <td>10.042972</td>\n",
       "      <td>9.149739</td>\n",
       "      <td>0.158767</td>\n",
       "    </tr>\n",
       "  </tbody>\n",
       "</table>\n",
       "</div>"
      ],
      "text/plain": [
       "   Data        Algo   K Train time (s)  Predicting time (s)  RMSE  MAE  R2  \\\n",
       "1  100k  als_cython  10         3.0065                  NaN   NaN  NaN NaN   \n",
       "2    1M  als_cython  10         8.6742                  NaN   NaN  NaN NaN   \n",
       "3   all  als_cython  10       326.4773                  NaN   NaN  NaN NaN   \n",
       "\n",
       "   Explained Variance Recommending time (s)       MAP    nDCG@k  Precision@k  \\\n",
       "1                 NaN                4.2962  0.006227  0.055221     0.051667   \n",
       "2                 NaN              135.8204  0.012856  0.038076     0.031262   \n",
       "3                 NaN             8666.2828  0.070028  0.098556     0.024141   \n",
       "\n",
       "   Recall@k  Diversity    Novelty  Distributional coverage  Catalog coverage  \n",
       "1  0.015082   0.854077  10.217964                 9.261189          0.205497  \n",
       "2  0.030650   0.920905  10.144708                 9.150357          0.234517  \n",
       "3  0.160735   0.962114  10.042972                 9.149739          0.158767  "
      ]
     },
     "execution_count": 91,
     "metadata": {},
     "output_type": "execute_result"
    }
   ],
   "source": [
    "summary = generate_summary(data_size,\n",
    "                           algo,\n",
    "                           TOP_K,\n",
    "                           train_time, \n",
    "                           rating_time,\n",
    "                           rating_metrics,\n",
    "                           ranking_time,\n",
    "                           ranking_metrics,\n",
    "                           diversity_metrics)\n",
    "df_results.loc[df_results.shape[0] + 1] = summary\n",
    "df_results"
   ]
  },
  {
   "cell_type": "markdown",
   "id": "ccd6c408-6721-4976-8fbf-2b5e93a34b48",
   "metadata": {},
   "source": [
    "# 5 Search for best params"
   ]
  },
  {
   "cell_type": "code",
   "execution_count": 10,
   "id": "696a6d2a-9a55-4529-a4f9-b9f3cb2ae9e4",
   "metadata": {},
   "outputs": [],
   "source": [
    "# search for best param\n",
    "def search_param(alpha):\n",
    "    param_dict = {\n",
    "        \"factors\": [5,10,20,50,100,200,500,1000],\n",
    "        \"regularization\": [0.0001,0.001,0.01,0.1]\n",
    "    }\n",
    "    param_grid = generate_param_grid(param_dict)\n",
    "    precision_score = []\n",
    "\n",
    "    for g in tqdm(param_grid):\n",
    "        model = implicit.als.AlternatingLeastSquares(iterations=50,\n",
    "                                                     random_state=42,\n",
    "                                                     **g,\n",
    "                                                    )\n",
    "        alpha = alpha\n",
    "        data_conf = (sparse_item_user_train * alpha).astype('double')\n",
    "        model.fit(data_conf, show_progress=True)\n",
    "\n",
    "        users = []\n",
    "        items = []\n",
    "        predictions = []\n",
    "\n",
    "        list_users = train[header[\"col_user\"]].unique()\n",
    "        for user in tqdm(list_users): \n",
    "            recommended = model.recommend(user,\n",
    "                                          sparse_user_item_train,\n",
    "                                          N=TOP_K,\n",
    "                                          filter_already_liked_items=True\n",
    "                                         )\n",
    "            for item in recommended:\n",
    "                idx, score = item\n",
    "                items.append(idx)\n",
    "                predictions.append(score)\n",
    "                users.append(user)\n",
    "\n",
    "        # Create a dataframe of artist names and scores\n",
    "        top_k = pd.DataFrame({header[\"col_user\"]: users,header[\"col_item\"]: items, header[\"col_prediction\"]: predictions})\n",
    "\n",
    "        args = [test, top_k]\n",
    "\n",
    "        kwargs = dict(col_user = header[\"col_user\"],\n",
    "                      col_item = header[\"col_item\"],\n",
    "                      col_rating = header[\"col_rating\"],\n",
    "                      col_prediction = header[\"col_prediction\"],\n",
    "                      relevancy_method = 'top_k', \n",
    "                      k = TOP_K)\n",
    "        \n",
    "        eval_precision = precision_at_k(*args, **kwargs)\n",
    "        \n",
    "        precision_score.append(eval_precision)\n",
    "    \n",
    "    return precision_score\n",
    "\n",
    "def show_plot(precision_score):\n",
    "    param_dict = {\n",
    "        \"factors\": [5,10,20,50,100,200,500,1000],\n",
    "        \"regularization\": [0.0001,0.001,0.01,0.1]\n",
    "    }\n",
    "    precision_score = [float('%.4f' % x) for x in precision_score]\n",
    "    precision_score_array = np.reshape(precision_score, (len(param_dict[\"factors\"]), len(param_dict[\"regularization\"]))) \n",
    "    precision_score_df = pd.DataFrame(data=precision_score_array, index=pd.Index(param_dict[\"factors\"], name=\"factors\"), \n",
    "                           columns=pd.Index(param_dict[\"regularization\"], name=\"regularization\"))\n",
    "    fig, ax = plt.subplots()\n",
    "    sns.heatmap(precision_score_df, cbar=False, annot=True, fmt=\".4g\")"
   ]
  },
  {
   "cell_type": "code",
   "execution_count": 47,
   "id": "cb70e358-4be4-45fe-81c8-90a500311447",
   "metadata": {},
   "outputs": [
    {
     "data": {
      "image/png": "[encoded data removed]",
      "text/plain": [
       "<Figure size 432x288 with 1 Axes>"
      ]
     },
     "metadata": {
      "needs_background": "light"
     },
     "output_type": "display_data"
    }
   ],
   "source": [
    "# alpha = 1 for 1M data\n",
    "show_plot(score)"
   ]
  },
  {
   "cell_type": "code",
   "execution_count": 49,
   "id": "098d5d0e-6a5d-496a-a50f-ed96b51b2f67",
   "metadata": {},
   "outputs": [
    {
     "data": {
      "image/png": "[encoded data removed]",
      "text/plain": [
       "<Figure size 432x288 with 1 Axes>"
      ]
     },
     "metadata": {
      "needs_background": "light"
     },
     "output_type": "display_data"
    }
   ],
   "source": [
    "# alpha = 10 for 1M data\n",
    "show_plot(score_1)"
   ]
  },
  {
   "cell_type": "code",
   "execution_count": 12,
   "id": "55328fa9-0eff-4365-b642-3eab0e24a9ea",
   "metadata": {},
   "outputs": [
    {
     "data": {
      "image/png": "[encoded data removed]",
      "text/plain": [
       "<Figure size 432x288 with 1 Axes>"
      ]
     },
     "metadata": {
      "needs_background": "light"
     },
     "output_type": "display_data"
    }
   ],
   "source": [
    "# alpha = 20 for 1M data\n",
    "show_plot(score_2)"
   ]
  },
  {
   "cell_type": "code",
   "execution_count": 28,
   "id": "16e11630-9e77-43bb-a4dd-9bd047905fec",
   "metadata": {},
   "outputs": [
    {
     "data": {
      "image/png": "[encoded data removed]",
      "text/plain": [
       "<Figure size 432x288 with 1 Axes>"
      ]
     },
     "metadata": {
      "needs_background": "light"
     },
     "output_type": "display_data"
    }
   ],
   "source": [
    "# alpha = 30 for 1M data\n",
    "show_plot(score_3)"
   ]
  },
  {
   "cell_type": "code",
   "execution_count": 30,
   "id": "a0d93d91-f5e7-4d46-8620-10fe17c36b4d",
   "metadata": {},
   "outputs": [
    {
     "data": {
      "image/png": "[encoded data removed]",
      "text/plain": [
       "<Figure size 432x288 with 1 Axes>"
      ]
     },
     "metadata": {
      "needs_background": "light"
     },
     "output_type": "display_data"
    }
   ],
   "source": [
    "# alpha = 40 for 1M data\n",
    "show_plot(score_4)"
   ]
  },
  {
   "cell_type": "code",
   "execution_count": null,
   "id": "8be653e5-f482-4847-91ad-3ab432ce0d40",
   "metadata": {},
   "outputs": [],
   "source": []
  }
 ],
 "metadata": {
  "interpreter": {
   "hash": "98a7e2511eebc18e1d53492a80a9cce98a2fa290fbef7bb366b371fd9c987258"
  },
  "kernelspec": {
   "display_name": "Python 3",
   "language": "python",
   "name": "python3"
  },
  "language_info": {
   "codemirror_mode": {
    "name": "ipython",
    "version": 3
   },
   "file_extension": ".py",
   "mimetype": "text/x-python",
   "name": "python",
   "nbconvert_exporter": "python",
   "pygments_lexer": "ipython3",
   "version": "3.7.10"
  }
 },
 "nbformat": 4,
 "nbformat_minor": 5
}
