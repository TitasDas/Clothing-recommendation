{
 "cells": [
  {
   "cell_type": "markdown",
   "id": "9cfd9c94-9f84-4de6-97d6-e4f6b86ea27d",
   "metadata": {},
   "source": [
    "# SVD "
   ]
  },
  {
   "cell_type": "code",
   "execution_count": 44,
   "id": "e98ef2c9-000c-44c0-b3c2-1ac4fc57f777",
   "metadata": {},
   "outputs": [
    {
     "name": "stdout",
     "output_type": "stream",
     "text": [
      "System version: 3.6.13 | packaged by conda-forge | (default, Sep 23 2021, 07:55:15) \n",
      "[GCC Clang 11.1.0]\n",
      "Surprise version: 1.1.1\n"
     ]
    }
   ],
   "source": [
    "import sys\n",
    "import os\n",
    "import surprise\n",
    "import papermill as pm\n",
    "import scrapbook as sb\n",
    "import pandas as pd\n",
    "import numpy as np\n",
    "from functools import wraps\n",
    "from tqdm.notebook import tqdm\n",
    "\n",
    "import matplotlib.pyplot as plt\n",
    "\n",
    "from recommenders.utils.timer import Timer\n",
    "from recommenders.datasets import movielens\n",
    "from recommenders.datasets.python_splitters import python_random_split, python_chrono_split\n",
    "from recommenders.evaluation.python_evaluation import (rmse, mae, rsquared, exp_var,\n",
    "                                                       map_at_k, ndcg_at_k, precision_at_k, recall_at_k, get_top_k_items,\n",
    "                                                       diversity, novelty, distributional_coverage, catalog_coverage )\n",
    "from recommenders.models.surprise.surprise_utils import predict, compute_ranking_predictions\n",
    "\n",
    "print(\"System version: {}\".format(sys.version))\n",
    "print(\"Surprise version: {}\".format(surprise.__version__))"
   ]
  },
  {
   "cell_type": "code",
   "execution_count": 45,
   "id": "a22545a2-5044-4c8d-9ed8-8f66ef987e63",
   "metadata": {},
   "outputs": [],
   "source": [
    "#utils\n",
    "\n",
    "# results table\n",
    "cols = [\"Data\", \"Algo\", \"K\", \"Train time (s)\",\"Predicting time (s)\", \"RMSE\", \"MAE\", \"R2\", \"Explained Variance\", \"Recommending time (s)\", \"MAP\", \"nDCG@k\", \"Precision@k\", \"Recall@k\",\"Diversity\",\"Novelty\",\"Distributional coverage\",\"Catalog coverage\"]\n",
    "df_results = pd.DataFrame(columns=cols)\n",
    "\n",
    "def generate_summary(data, algo, k, train_time, rating_time, rating_metrics, ranking_time, ranking_metrics, diversity_metrics):\n",
    "    summary = {\"Data\": data, \"Algo\": algo, \"K\": k, \"Train time (s)\": train_time, \"Predicting time (s)\": rating_time, \"Recommending time (s)\":ranking_time}\n",
    "    if rating_metrics is None:\n",
    "        rating_metrics = {\n",
    "            \"RMSE\": np.nan,\n",
    "            \"MAE\": np.nan,\n",
    "            \"R2\": np.nan,\n",
    "            \"Explained Variance\": np.nan,\n",
    "        }\n",
    "    if ranking_metrics is None:\n",
    "        ranking_metrics = {\n",
    "            \"MAP\": np.nan,\n",
    "            \"nDCG@k\": np.nan,\n",
    "            \"Precision@k\": np.nan,\n",
    "            \"Recall@k\": np.nan,\n",
    "        }\n",
    "    if diversity_metrics is None:\n",
    "        diversity_metrics = {\n",
    "        \"Diversity\": np.nan,\n",
    "        \"Novelty\": np.nan,\n",
    "        \"Distributional coverage\": np.nan,\n",
    "        \"Catalog coverage\": np.nan,\n",
    "    }\n",
    "    summary.update(diversity_metrics)\n",
    "    summary.update(rating_metrics)\n",
    "    summary.update(ranking_metrics)\n",
    "\n",
    "    return summary\n",
    "\n",
    "\n",
    "def convert_timestamp(datetime):\n",
    "    date_string = str(datetime)\n",
    "    date = datetime.datetime.strptime(date_string, \"%m/%d/%Y\")\n",
    "    timestamp = datetime.datetime.timestamp(date)\n",
    "    return(timestamp)\n",
    "\n",
    "def preprocess_data(df):\n",
    "    # Convert the float precision to 32-bit in order to reduce memory consumption \n",
    "    df.loc[:, header[\"col_rating\"]] = df[header[\"col_rating\"]].astype(np.float32)\n",
    "    df = df[[header[\"col_user\"],header[\"col_item\"],header[\"col_rating\"]]]\n",
    "    return df \n",
    "\n",
    "def timing(f):\n",
    "    @wraps(f)\n",
    "    def wrap(*args, **kw):\n",
    "        ts = time()\n",
    "        result = f(*args, **kw)\n",
    "        te = time()\n",
    "        arg = args[0] if len(args)>=1 else \"\" \n",
    "        print('func:%r  took: %2.4f sec' % \\\n",
    "          (f.__name__, te-ts))\n",
    "        return result\n",
    "    return wrap\n",
    "\n",
    "def predict_and_calculate_metrics(svd,test):\n",
    "    predictions = predict(svd, test, usercol=header[\"col_user\"], itemcol=header[\"col_item\"])\n",
    "    eval_rmse = rmse(test, predictions, \n",
    "                     col_user = header[\"col_user\"],\n",
    "                     col_item = header[\"col_item\"],\n",
    "                     col_rating = header[\"col_rating\"],\n",
    "                     col_prediction = header[\"col_prediction\"]\n",
    "                    )\n",
    "    return(eval_rmse)\n",
    "    "
   ]
  },
  {
   "cell_type": "markdown",
   "id": "39af46c0-e0ce-4888-8729-2bd8501b62bf",
   "metadata": {},
   "source": [
    "# 0. Config params"
   ]
  },
  {
   "cell_type": "code",
   "execution_count": 81,
   "id": "b08ab576-c92b-4eb5-b610-0ec7c4812e94",
   "metadata": {},
   "outputs": [],
   "source": [
    "# table results \n",
    "algo = \"svd\"\n",
    "ranking_metrics = None\n",
    "rating_metrics = None\n",
    "diversity_metrics = None\n",
    "train_time = np.nan\n",
    "rating_time = np.nan\n",
    "ranking_time = np.nan\n",
    "\n",
    "# column name \n",
    "header = {\n",
    "    \"col_user\": \"customer_id\",\n",
    "    \"col_item\": \"variant_id\",\n",
    "    \"col_rating\": \"quantity\",\n",
    "    \"col_timestamp\": \"order_date\",\n",
    "    \"col_prediction\": \"prediction\",\n",
    "}\n",
    "\n",
    "# top k\n",
    "TOP_K = 10\n",
    "\n",
    "################ TO MODIFY ################\n",
    "\n",
    "# date size with 3 choices : \"100k\",\"1M\" and \"all\"\n",
    "data_size = \"all\"\n",
    "# load splitted data \n",
    "load_splitted_data = True \n",
    "\n",
    "################ TO MODIFY ################"
   ]
  },
  {
   "cell_type": "markdown",
   "id": "a940089b-6655-4937-bffd-1bfbcd007796",
   "metadata": {},
   "source": [
    "# 1. Data"
   ]
  },
  {
   "cell_type": "markdown",
   "id": "b2a7a91d-7ded-49a0-a8c2-3899926dcef4",
   "metadata": {},
   "source": [
    "# 1.1 Load data "
   ]
  },
  {
   "cell_type": "code",
   "execution_count": 82,
   "id": "d5921f03-ae02-47a7-a7c8-e8be710836ed",
   "metadata": {},
   "outputs": [],
   "source": [
    "########### TO MODIFY ###########\n",
    "def load_data(data_size):\n",
    "    path = \"\"\n",
    "    if data_size==\"100k\":\n",
    "        path = '../../data/transaction_100k_df.pkl'\n",
    "    elif data_size==\"1M\":\n",
    "        path = '../../data/transaction_1M_df.pkl'\n",
    "    elif data_size==\"all\":\n",
    "        path = '../../data/transaction_all_df.pkl'\n",
    "    \n",
    "    if path != \"\":\n",
    "        return pd.read_pickle(path)\n",
    "    else :\n",
    "        print(\"Please choose between 100k, 1M and all\")\n",
    "########### TO MODIFY ###########"
   ]
  },
  {
   "cell_type": "code",
   "execution_count": 83,
   "id": "b507ac49-3587-4636-88d6-bd790c2a0432",
   "metadata": {},
   "outputs": [],
   "source": [
    "# 2 ways to load the data\n",
    "if not load_splitted_data : \n",
    "    # data not splitted \n",
    "    data = load_data(data_size)\n",
    "else :\n",
    "    # or  use stored splitted data to make it faster\n",
    "    train = pd.read_pickle(f\"../../data/train_{data_size}_df.pkl\")\n",
    "    test = pd.read_pickle(f\"../../data/test_{data_size}_df.pkl\")\n",
    "    train.shape[0], test.shape[0]"
   ]
  },
  {
   "cell_type": "markdown",
   "id": "915661e3-737f-4821-9f8e-447e5cb80deb",
   "metadata": {},
   "source": [
    "## 1.2 Split the data ( skip if load_splitted_data )"
   ]
  },
  {
   "cell_type": "code",
   "execution_count": 84,
   "id": "310b5a58-f1ed-4f43-8e23-f948b9cf8797",
   "metadata": {},
   "outputs": [],
   "source": [
    "# chrono split but it is really slow ( +1h to split 8M data ) \n",
    "if not load_splitted_data :\n",
    "    train, test = python_chrono_split(data,\n",
    "                                      ratio=0.75,\n",
    "                                      col_user=header[\"col_user\"],\n",
    "                                      col_item=header[\"col_item\"],\n",
    "                                      col_timestamp = header[\"col_timestamp\"]\n",
    "                                     )\n",
    "    train.to_pickle(f\"../../data/train_{data_size}_df.pkl\")\n",
    "    test.to_pickle(f\"../../data/test_{data_size}_df.pkl\")\n",
    "    train.shape[0], test.shape[0]"
   ]
  },
  {
   "cell_type": "code",
   "execution_count": 85,
   "id": "91adcf7a-483d-46f4-9011-3834ddc6fb56",
   "metadata": {},
   "outputs": [
    {
     "name": "stdout",
     "output_type": "stream",
     "text": [
      "\n",
      "Train:\n",
      "Total Ratings: 6041296\n",
      "Unique Users: 1497612\n",
      "Unique Items: 7659\n",
      "\n",
      "Test:\n",
      "Total Ratings: 1799883\n",
      "Unique Users: 869943\n",
      "Unique Items: 7022\n",
      "\n"
     ]
    }
   ],
   "source": [
    "print(\"\"\"\n",
    "Train:\n",
    "Total Ratings: {train_total}\n",
    "Unique Users: {train_users}\n",
    "Unique Items: {train_items}\n",
    "\n",
    "Test:\n",
    "Total Ratings: {test_total}\n",
    "Unique Users: {test_users}\n",
    "Unique Items: {test_items}\n",
    "\"\"\".format(\n",
    "    train_total=len(train),\n",
    "    train_users=len(train[header[\"col_user\"]].unique()),\n",
    "    train_items=len(train[header[\"col_item\"]].unique()),\n",
    "    test_total=len(test),\n",
    "    test_users=len(test[header[\"col_user\"]].unique()),\n",
    "    test_items=len(test[header[\"col_item\"]].unique()),\n",
    "))"
   ]
  },
  {
   "cell_type": "markdown",
   "id": "09087006-f2bf-4b52-8c13-a5305dd01a96",
   "metadata": {},
   "source": [
    "## 1.3 Process data"
   ]
  },
  {
   "cell_type": "code",
   "execution_count": 86,
   "id": "b871460c-ecc2-458b-a537-6514fd204c08",
   "metadata": {},
   "outputs": [],
   "source": [
    "train = preprocess_data(train)\n",
    "test = preprocess_data(test)\n",
    "\n",
    "# 'reader' is being used to get rating scale (for MovieLens, the scale is [1, 5]).\n",
    "# 'rating_scale' parameter can be used instead for the later version of surprise lib:\n",
    "# https://github.com/NicolasHug/Surprise/blob/master/surprise/dataset.py\n",
    "train_set = surprise.Dataset.load_from_df(train, reader=surprise.Reader(rating_scale=(0,max(train[\"quantity\"])))).build_full_trainset()"
   ]
  },
  {
   "cell_type": "markdown",
   "id": "aab54151-edfc-4046-9289-7a52bc33c328",
   "metadata": {},
   "source": [
    "# 2. Model"
   ]
  },
  {
   "cell_type": "markdown",
   "id": "15c06e12-3c62-4aa8-aadb-4e5ac13f80ac",
   "metadata": {},
   "source": [
    "## 2.1 Define model"
   ]
  },
  {
   "cell_type": "markdown",
   "id": "e4b066ad-1357-4ea8-bba3-6ac40e5df2c9",
   "metadata": {},
   "source": [
    "##### lr=0.001 for 100k and 1M but 0.0001 for all"
   ]
  },
  {
   "cell_type": "code",
   "execution_count": 96,
   "id": "58ca4c82-7e97-4f35-b169-9f3fea25a0f6",
   "metadata": {},
   "outputs": [],
   "source": [
    "svd = surprise.SVD(random_state=0, n_factors=3, n_epochs=700,biased=False, lr_all=0.0001,verbose=False)"
   ]
  },
  {
   "cell_type": "markdown",
   "id": "1ff3b8a7-821c-4ebd-82da-4f55110aa234",
   "metadata": {},
   "source": [
    "## 2.2 Train model"
   ]
  },
  {
   "cell_type": "code",
   "execution_count": 98,
   "id": "0b09c927-ff01-461f-8c92-de4c159b4a8e",
   "metadata": {},
   "outputs": [],
   "source": [
    "with Timer() as train_time:\n",
    "    svd.fit(train_set)\n",
    "    \n",
    "# train and plot the rmse plot for training and testing data \n",
    "def _train():\n",
    "    RMSE_train = []\n",
    "    RMSE_test = []\n",
    "    nb_epoch = 500\n",
    "    with Timer() as train_time:\n",
    "        for i in tqdm(range(1,nb_epoch+1,50)):\n",
    "            svd = surprise.SVD(random_state=0, n_factors=3, n_epochs=i,biased=False,init_std_dev=0.1,lr_all=0.0001,reg_all = 0.02, verbose=False)\n",
    "            svd.fit(train_set)\n",
    "            val = predict_and_calculate_metrics(svd,train)\n",
    "            RMSE_train.append(val)\n",
    "            val = predict_and_calculate_metrics(svd,test)\n",
    "            RMSE_test.append(val)\n",
    "    plt.plot(RMSE_train,label='train')\n",
    "    plt.plot(RMSE_test,label='test')\n",
    "    plt.legend()\n",
    "    plt.show()\n",
    "    print(\"Took {} seconds for training.\".format(train_time.interval))"
   ]
  },
  {
   "cell_type": "markdown",
   "id": "6a7917d3-0d6b-4098-a1db-916e64446ea8",
   "metadata": {},
   "source": [
    "## 2.3 Predict test raiting"
   ]
  },
  {
   "cell_type": "code",
   "execution_count": 99,
   "id": "4d8a567c-bad5-443f-ab7b-7fef16690712",
   "metadata": {},
   "outputs": [
    {
     "data": {
      "text/html": [
       "<div>\n",
       "<style scoped>\n",
       "    .dataframe tbody tr th:only-of-type {\n",
       "        vertical-align: middle;\n",
       "    }\n",
       "\n",
       "    .dataframe tbody tr th {\n",
       "        vertical-align: top;\n",
       "    }\n",
       "\n",
       "    .dataframe thead th {\n",
       "        text-align: right;\n",
       "    }\n",
       "</style>\n",
       "<table border=\"1\" class=\"dataframe\">\n",
       "  <thead>\n",
       "    <tr style=\"text-align: right;\">\n",
       "      <th></th>\n",
       "      <th>customer_id</th>\n",
       "      <th>variant_id</th>\n",
       "      <th>prediction</th>\n",
       "    </tr>\n",
       "  </thead>\n",
       "  <tbody>\n",
       "    <tr>\n",
       "      <th>0</th>\n",
       "      <td>00000</td>\n",
       "      <td>433036</td>\n",
       "      <td>0.955443</td>\n",
       "    </tr>\n",
       "    <tr>\n",
       "      <th>1</th>\n",
       "      <td>00010</td>\n",
       "      <td>433025</td>\n",
       "      <td>2.654011</td>\n",
       "    </tr>\n",
       "    <tr>\n",
       "      <th>2</th>\n",
       "      <td>00010</td>\n",
       "      <td>422990</td>\n",
       "      <td>7.062648</td>\n",
       "    </tr>\n",
       "    <tr>\n",
       "      <th>3</th>\n",
       "      <td>00014</td>\n",
       "      <td>433255</td>\n",
       "      <td>0.410683</td>\n",
       "    </tr>\n",
       "    <tr>\n",
       "      <th>4</th>\n",
       "      <td>00037</td>\n",
       "      <td>422808</td>\n",
       "      <td>1.138263</td>\n",
       "    </tr>\n",
       "  </tbody>\n",
       "</table>\n",
       "</div>"
      ],
      "text/plain": [
       "  customer_id variant_id  prediction\n",
       "0       00000     433036    0.955443\n",
       "1       00010     433025    2.654011\n",
       "2       00010     422990    7.062648\n",
       "3       00014     433255    0.410683\n",
       "4       00037     422808    1.138263"
      ]
     },
     "execution_count": 99,
     "metadata": {},
     "output_type": "execute_result"
    }
   ],
   "source": [
    "with Timer() as rating_time:\n",
    "    predictions = predict(svd, test, usercol=header[\"col_user\"], itemcol=header[\"col_item\"])\n",
    "predictions.head()"
   ]
  },
  {
   "cell_type": "markdown",
   "id": "25a9e8f7-865b-4c69-b3ef-67c9739fe07e",
   "metadata": {},
   "source": [
    "## 2.4  recommend k items"
   ]
  },
  {
   "cell_type": "code",
   "execution_count": 100,
   "id": "1c116b39-9d1e-47db-b074-d7d1e3cc0abc",
   "metadata": {},
   "outputs": [],
   "source": [
    "# recommend items by batch ( bc it causes kernel failure ) \n",
    "train[\"group\"] = train.groupby(\"customer_id\").ngroup()\n",
    "nb_user = len(train[\"customer_id\"].unique())\n",
    "top_k_list=[]"
   ]
  },
  {
   "cell_type": "code",
   "execution_count": 101,
   "id": "3036e206-d143-4ae3-8933-b309c6da76e0",
   "metadata": {},
   "outputs": [
    {
     "data": {
      "application/vnd.jupyter.widget-view+json": {
       "model_id": "549e0e8874ed4e47886134161d758f6b",
       "version_major": 2,
       "version_minor": 0
      },
      "text/plain": [
       "  0%|          | 0/15 [00:00<?, ?it/s]"
      ]
     },
     "metadata": {},
     "output_type": "display_data"
    },
    {
     "data": {
      "text/html": [
       "<div>\n",
       "<style scoped>\n",
       "    .dataframe tbody tr th:only-of-type {\n",
       "        vertical-align: middle;\n",
       "    }\n",
       "\n",
       "    .dataframe tbody tr th {\n",
       "        vertical-align: top;\n",
       "    }\n",
       "\n",
       "    .dataframe thead th {\n",
       "        text-align: right;\n",
       "    }\n",
       "</style>\n",
       "<table border=\"1\" class=\"dataframe\">\n",
       "  <thead>\n",
       "    <tr style=\"text-align: right;\">\n",
       "      <th></th>\n",
       "      <th>customer_id</th>\n",
       "      <th>variant_id</th>\n",
       "      <th>prediction</th>\n",
       "      <th>rank</th>\n",
       "    </tr>\n",
       "  </thead>\n",
       "  <tbody>\n",
       "    <tr>\n",
       "      <th>0</th>\n",
       "      <td>00000</td>\n",
       "      <td>422990</td>\n",
       "      <td>3.502466</td>\n",
       "      <td>1</td>\n",
       "    </tr>\n",
       "    <tr>\n",
       "      <th>1</th>\n",
       "      <td>00000</td>\n",
       "      <td>433028</td>\n",
       "      <td>3.241559</td>\n",
       "      <td>2</td>\n",
       "    </tr>\n",
       "    <tr>\n",
       "      <th>2</th>\n",
       "      <td>00000</td>\n",
       "      <td>431622</td>\n",
       "      <td>2.735629</td>\n",
       "      <td>3</td>\n",
       "    </tr>\n",
       "    <tr>\n",
       "      <th>3</th>\n",
       "      <td>00000</td>\n",
       "      <td>425941</td>\n",
       "      <td>2.575728</td>\n",
       "      <td>4</td>\n",
       "    </tr>\n",
       "    <tr>\n",
       "      <th>4</th>\n",
       "      <td>00000</td>\n",
       "      <td>425911</td>\n",
       "      <td>2.561913</td>\n",
       "      <td>5</td>\n",
       "    </tr>\n",
       "  </tbody>\n",
       "</table>\n",
       "</div>"
      ],
      "text/plain": [
       "  customer_id variant_id  prediction  rank\n",
       "0       00000     422990    3.502466     1\n",
       "1       00000     433028    3.241559     2\n",
       "2       00000     431622    2.735629     3\n",
       "3       00000     425941    2.575728     4\n",
       "4       00000     425911    2.561913     5"
      ]
     },
     "execution_count": 101,
     "metadata": {},
     "output_type": "execute_result"
    }
   ],
   "source": [
    "with Timer() as ranking_time:\n",
    "    for i in tqdm(range(0,nb_user,100000)):\n",
    "        train_subset = train[(train[\"group\"]>=i) & (train[\"group\"]<i+10000)]\n",
    "        all_predictions = compute_ranking_predictions(svd, train_subset, usercol=header[\"col_user\"], itemcol=header[\"col_item\"], remove_seen=True)\n",
    "        top_k_subset = get_top_k_items(all_predictions, col_user=header[\"col_user\"], col_rating=header[\"col_prediction\"], k=TOP_K)\n",
    "        top_k_list.append(top_k_subset)\n",
    "top_k = pd.concat(top_k_list)\n",
    "top_k.head()"
   ]
  },
  {
   "cell_type": "markdown",
   "id": "c823aa31-fb1a-4221-a93a-712856c4f439",
   "metadata": {},
   "source": [
    "# 3. Evaluate"
   ]
  },
  {
   "cell_type": "markdown",
   "id": "d5bf74a9-9e84-4bb9-9e1f-5fbe8cce4803",
   "metadata": {},
   "source": [
    "## 3.1 Raiting metrics"
   ]
  },
  {
   "cell_type": "code",
   "execution_count": 102,
   "id": "d31eec68-199e-4ccb-875e-e70cfa97aef7",
   "metadata": {},
   "outputs": [
    {
     "name": "stdout",
     "output_type": "stream",
     "text": [
      "RMSE:\t\t2.107780\n",
      "MAE:\t\t0.736401\n",
      "rsquared:\t-0.058925\n",
      "exp var:\t-0.033717\n"
     ]
    }
   ],
   "source": [
    "args = [test, predictions]\n",
    "\n",
    "kwargs = dict(col_user = header[\"col_user\"],\n",
    "              col_item = header[\"col_item\"],\n",
    "              col_rating = header[\"col_rating\"],\n",
    "              col_prediction = header[\"col_prediction\"]\n",
    "             )\n",
    "\n",
    "eval_rmse = rmse(*args, **kwargs)\n",
    "eval_mae = mae(*args, **kwargs)\n",
    "eval_rsquared = rsquared(*args, **kwargs)\n",
    "eval_exp_var = exp_var(*args, **kwargs)\n",
    "\n",
    "rating_metrics = {\n",
    "    \"RMSE\": eval_rmse,\n",
    "    \"MAE\": eval_mae,\n",
    "    \"R2\": eval_rsquared,\n",
    "    \"Explained Variance\": eval_exp_var,\n",
    "}\n",
    "\n",
    "print(\"RMSE:\\t\\t%f\" % eval_rmse,\n",
    "      \"MAE:\\t\\t%f\" % eval_mae,\n",
    "      \"rsquared:\\t%f\" % eval_rsquared,\n",
    "      \"exp var:\\t%f\" % eval_exp_var, sep='\\n')"
   ]
  },
  {
   "cell_type": "markdown",
   "id": "c6ea896e-2479-494a-94c0-bcd0c4e7af4b",
   "metadata": {},
   "source": [
    "## 3.2 Ranking metrics "
   ]
  },
  {
   "cell_type": "code",
   "execution_count": 103,
   "id": "17868dea-408d-46ff-89ad-3c7fa3a1cf02",
   "metadata": {},
   "outputs": [
    {
     "name": "stdout",
     "output_type": "stream",
     "text": [
      "Model:\n",
      "Top K:\t\t 10\n",
      "MAP:\t\t 0.007453\n",
      "NDCG:\t\t 0.010208\n",
      "Precision@K:\t 0.002405\n",
      "Recall@K:\t 0.014684\n"
     ]
    }
   ],
   "source": [
    "args = [test, top_k]\n",
    "\n",
    "kwargs = dict(col_user = header[\"col_user\"],\n",
    "              col_item = header[\"col_item\"],\n",
    "              col_rating = header[\"col_rating\"],\n",
    "              col_prediction = header[\"col_prediction\"],\n",
    "              relevancy_method = 'top_k', \n",
    "              k = TOP_K)\n",
    "\n",
    "eval_map = map_at_k(*args, **kwargs)\n",
    "eval_ndcg = ndcg_at_k(*args, **kwargs)\n",
    "eval_precision = precision_at_k(*args, **kwargs)\n",
    "eval_recall = recall_at_k(*args, **kwargs)\n",
    "\n",
    "ranking_metrics = {\n",
    "    \"MAP\": eval_map,\n",
    "    \"nDCG@k\": eval_ndcg,\n",
    "    \"Precision@k\": eval_precision,\n",
    "    \"Recall@k\": eval_recall\n",
    "}\n",
    "\n",
    "print(f\"Model:\",\n",
    "      f\"Top K:\\t\\t {TOP_K}\",\n",
    "      f\"MAP:\\t\\t {eval_map:f}\",\n",
    "      f\"NDCG:\\t\\t {eval_ndcg:f}\",\n",
    "      f\"Precision@K:\\t {eval_precision:f}\",\n",
    "      f\"Recall@K:\\t {eval_recall:f}\",sep='\\n')"
   ]
  },
  {
   "cell_type": "markdown",
   "id": "aec48273-8945-4025-abb4-ec98552fdc8b",
   "metadata": {},
   "source": [
    "## 3.3 Diversity metrics"
   ]
  },
  {
   "cell_type": "code",
   "execution_count": 104,
   "id": "79b8ecff-3987-475e-8549-2dd964024b70",
   "metadata": {},
   "outputs": [
    {
     "name": "stderr",
     "output_type": "stream",
     "text": [
      "/opt/anaconda3/envs/rec/lib/python3.6/site-packages/recommenders/evaluation/python_evaluation.py:760: SettingWithCopyWarning: \n",
      "A value is trying to be set on a copy of a slice from a DataFrame.\n",
      "Try using .loc[row_indexer,col_indexer] = value instead\n",
      "\n",
      "See the caveats in the documentation: https://pandas.pydata.org/pandas-docs/stable/user_guide/indexing.html#returning-a-view-versus-a-copy\n",
      "  reco_df[col_relevance] = 1.0\n"
     ]
    },
    {
     "name": "stdout",
     "output_type": "stream",
     "text": [
      "Model:\n",
      "Diversity :\t\t\t 0.9889497845639011\n",
      "Novelty:\t\t\t 11.154896\n",
      "Catalog coverage:\t\t 0.031075\n",
      "Distributional coverage:\t 5.524555\n"
     ]
    }
   ],
   "source": [
    "args = [train, top_k]\n",
    "\n",
    "kwargs = dict(col_user = header[\"col_user\"],\n",
    "              col_item = header[\"col_item\"],\n",
    "             )\n",
    "\n",
    "eval_diversity = diversity(*args, **kwargs)\n",
    "eval_novelty = novelty(*args, **kwargs)\n",
    "eval_distributional_coverage = distributional_coverage(*args, **kwargs)\n",
    "eval_catalog_coverage = catalog_coverage(*args,**kwargs)\n",
    "\n",
    "diversity_metrics = {\n",
    "    \"Diversity\": eval_diversity,\n",
    "    \"Novelty\": eval_novelty,\n",
    "    \"Distributional coverage\": eval_distributional_coverage,\n",
    "    \"Catalog coverage\": eval_catalog_coverage,\n",
    "}\n",
    "        \n",
    "print(f\"Model:\",\n",
    "      f\"Diversity :\\t\\t\\t {eval_diversity}\",\n",
    "      f\"Novelty:\\t\\t\\t {eval_novelty:f}\",\n",
    "      f\"Catalog coverage:\\t\\t {eval_catalog_coverage:f}\",\n",
    "      f\"Distributional coverage:\\t {eval_distributional_coverage:f}\",sep='\\n')"
   ]
  },
  {
   "cell_type": "markdown",
   "id": "5cba30e9-0480-4c15-acba-07166547dbf4",
   "metadata": {},
   "source": [
    "##### 4 Summary"
   ]
  },
  {
   "cell_type": "code",
   "execution_count": 105,
   "id": "98069e4d-3011-449a-9fa7-ed2a6f0b4f67",
   "metadata": {},
   "outputs": [
    {
     "data": {
      "text/html": [
       "<div>\n",
       "<style scoped>\n",
       "    .dataframe tbody tr th:only-of-type {\n",
       "        vertical-align: middle;\n",
       "    }\n",
       "\n",
       "    .dataframe tbody tr th {\n",
       "        vertical-align: top;\n",
       "    }\n",
       "\n",
       "    .dataframe thead th {\n",
       "        text-align: right;\n",
       "    }\n",
       "</style>\n",
       "<table border=\"1\" class=\"dataframe\">\n",
       "  <thead>\n",
       "    <tr style=\"text-align: right;\">\n",
       "      <th></th>\n",
       "      <th>Data</th>\n",
       "      <th>Algo</th>\n",
       "      <th>K</th>\n",
       "      <th>Train time (s)</th>\n",
       "      <th>Predicting time (s)</th>\n",
       "      <th>RMSE</th>\n",
       "      <th>MAE</th>\n",
       "      <th>R2</th>\n",
       "      <th>Explained Variance</th>\n",
       "      <th>Recommending time (s)</th>\n",
       "      <th>MAP</th>\n",
       "      <th>nDCG@k</th>\n",
       "      <th>Precision@k</th>\n",
       "      <th>Recall@k</th>\n",
       "      <th>Diversity</th>\n",
       "      <th>Novelty</th>\n",
       "      <th>Distributional coverage</th>\n",
       "      <th>Catalog coverage</th>\n",
       "    </tr>\n",
       "  </thead>\n",
       "  <tbody>\n",
       "    <tr>\n",
       "      <th>1</th>\n",
       "      <td>all</td>\n",
       "      <td>svd</td>\n",
       "      <td>10</td>\n",
       "      <td>320.4409</td>\n",
       "      <td>15.2747</td>\n",
       "      <td>1933.422339</td>\n",
       "      <td>1933.379917</td>\n",
       "      <td>-890979.313000</td>\n",
       "      <td>-38.101434</td>\n",
       "      <td>5.6938</td>\n",
       "      <td>0.003718</td>\n",
       "      <td>0.007425</td>\n",
       "      <td>0.002993</td>\n",
       "      <td>0.014763</td>\n",
       "      <td>0.987356</td>\n",
       "      <td>11.203618</td>\n",
       "      <td>9.916785</td>\n",
       "      <td>0.183836</td>\n",
       "    </tr>\n",
       "    <tr>\n",
       "      <th>2</th>\n",
       "      <td>all</td>\n",
       "      <td>svd</td>\n",
       "      <td>10</td>\n",
       "      <td>320.4409</td>\n",
       "      <td>15.2747</td>\n",
       "      <td>1933.422339</td>\n",
       "      <td>1933.379917</td>\n",
       "      <td>-890979.313000</td>\n",
       "      <td>-38.101434</td>\n",
       "      <td>41811.3658</td>\n",
       "      <td>0.004625</td>\n",
       "      <td>0.007775</td>\n",
       "      <td>0.002376</td>\n",
       "      <td>0.014803</td>\n",
       "      <td>0.987503</td>\n",
       "      <td>11.206919</td>\n",
       "      <td>9.727227</td>\n",
       "      <td>0.187100</td>\n",
       "    </tr>\n",
       "    <tr>\n",
       "      <th>3</th>\n",
       "      <td>all</td>\n",
       "      <td>svd</td>\n",
       "      <td>10</td>\n",
       "      <td>2205.5820</td>\n",
       "      <td>20.6284</td>\n",
       "      <td>2.107780</td>\n",
       "      <td>0.736401</td>\n",
       "      <td>-0.058925</td>\n",
       "      <td>-0.033717</td>\n",
       "      <td>5173.3098</td>\n",
       "      <td>0.007453</td>\n",
       "      <td>0.010208</td>\n",
       "      <td>0.002405</td>\n",
       "      <td>0.014684</td>\n",
       "      <td>0.988950</td>\n",
       "      <td>11.154896</td>\n",
       "      <td>5.524555</td>\n",
       "      <td>0.031075</td>\n",
       "    </tr>\n",
       "  </tbody>\n",
       "</table>\n",
       "</div>"
      ],
      "text/plain": [
       "  Data Algo   K Train time (s) Predicting time (s)         RMSE          MAE  \\\n",
       "1  all  svd  10       320.4409             15.2747  1933.422339  1933.379917   \n",
       "2  all  svd  10       320.4409             15.2747  1933.422339  1933.379917   \n",
       "3  all  svd  10      2205.5820             20.6284     2.107780     0.736401   \n",
       "\n",
       "              R2  Explained Variance Recommending time (s)       MAP  \\\n",
       "1 -890979.313000          -38.101434                5.6938  0.003718   \n",
       "2 -890979.313000          -38.101434            41811.3658  0.004625   \n",
       "3      -0.058925           -0.033717             5173.3098  0.007453   \n",
       "\n",
       "     nDCG@k  Precision@k  Recall@k  Diversity    Novelty  \\\n",
       "1  0.007425     0.002993  0.014763   0.987356  11.203618   \n",
       "2  0.007775     0.002376  0.014803   0.987503  11.206919   \n",
       "3  0.010208     0.002405  0.014684   0.988950  11.154896   \n",
       "\n",
       "   Distributional coverage  Catalog coverage  \n",
       "1                 9.916785          0.183836  \n",
       "2                 9.727227          0.187100  \n",
       "3                 5.524555          0.031075  "
      ]
     },
     "execution_count": 105,
     "metadata": {},
     "output_type": "execute_result"
    }
   ],
   "source": [
    "summary = generate_summary(data_size,\n",
    "                           algo,\n",
    "                           TOP_K,\n",
    "                           train_time, \n",
    "                           rating_time,\n",
    "                           rating_metrics,\n",
    "                           ranking_time,\n",
    "                           ranking_metrics,\n",
    "                           diversity_metrics)\n",
    "df_results.loc[df_results.shape[0] + 1] = summary\n",
    "df_results"
   ]
  },
  {
   "cell_type": "code",
   "execution_count": null,
   "id": "035e7f89-18e5-4b13-95f7-2cefbe5395d9",
   "metadata": {},
   "outputs": [],
   "source": []
  }
 ],
 "metadata": {
  "kernelspec": {
   "display_name": "Python 3",
   "language": "python",
   "name": "python3"
  },
  "language_info": {
   "codemirror_mode": {
    "name": "ipython",
    "version": 3
   },
   "file_extension": ".py",
   "mimetype": "text/x-python",
   "name": "python",
   "nbconvert_exporter": "python",
   "pygments_lexer": "ipython3",
   "version": "3.6.13"
  }
 },
 "nbformat": 4,
 "nbformat_minor": 5
}
