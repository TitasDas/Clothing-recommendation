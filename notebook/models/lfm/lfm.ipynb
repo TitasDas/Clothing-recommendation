{
 "cells": [
  {
   "cell_type": "markdown",
   "id": "9cfd9c94-9f84-4de6-97d6-e4f6b86ea27d",
   "metadata": {},
   "source": [
    "# LFM"
   ]
  },
  {
   "cell_type": "code",
   "execution_count": 10,
   "id": "e98ef2c9-000c-44c0-b3c2-1ac4fc57f777",
   "metadata": {},
   "outputs": [
    {
     "name": "stdout",
     "output_type": "stream",
     "text": [
      "System version: 3.6.13 | packaged by conda-forge | (default, Sep 23 2021, 07:55:15) \n",
      "[GCC Clang 11.1.0]\n",
      "LightFM version: 1.16\n"
     ]
    }
   ],
   "source": [
    "import os\n",
    "import sys\n",
    "\n",
    "import itertools\n",
    "import pandas as pd\n",
    "import numpy as np\n",
    "import matplotlib.pyplot as plt\n",
    "import seaborn as sns\n",
    "from tqdm.notebook import tqdm\n",
    "\n",
    "import lightfm\n",
    "from lightfm import LightFM\n",
    "from lightfm.data import Dataset\n",
    "from lightfm import cross_validation\n",
    "\n",
    "# Import LightFM's evaluation metrics\n",
    "from lightfm.evaluation import precision_at_k as lightfm_prec_at_k\n",
    "from lightfm.evaluation import recall_at_k as lightfm_recall_at_k\n",
    "\n",
    "# Import repo's evaluation metrics\n",
    "from recommenders.evaluation.python_evaluation import (\n",
    "    precision_at_k, recall_at_k)\n",
    "\n",
    "from recommenders.evaluation.python_evaluation import get_top_k_items, map_at_k, ndcg_at_k, precision_at_k, recall_at_k, diversity, novelty, distributional_coverage, catalog_coverage \n",
    "from recommenders.tuning.parameter_sweep import generate_param_grid\n",
    "\n",
    "from lightfm.evaluation import precision_at_k as lightfm_prec_at_k\n",
    "\n",
    "from recommenders.utils.timer import Timer\n",
    "from recommenders.datasets import movielens\n",
    "from recommenders.models.lightfm.lightfm_utils import (\n",
    "    track_model_metrics, prepare_test_df, prepare_all_predictions,\n",
    "    compare_metric, similar_users, similar_items)\n",
    "\n",
    "print(\"System version: {}\".format(sys.version))\n",
    "print(\"LightFM version: {}\".format(lightfm.__version__))"
   ]
  },
  {
   "cell_type": "code",
   "execution_count": 11,
   "id": "a22545a2-5044-4c8d-9ed8-8f66ef987e63",
   "metadata": {},
   "outputs": [],
   "source": [
    "#utils\n",
    "\n",
    "# results table\n",
    "cols = [\"Data\", \"Algo\", \"K\", \"Train time (s)\",\"Predicting time (s)\", \"RMSE\", \"MAE\", \"R2\", \"Explained Variance\", \"Recommending time (s)\", \"MAP\", \"nDCG@k\", \"Precision@k\", \"Recall@k\",\"Diversity\",\"Novelty\",\"Distributional coverage\",\"Catalog coverage\"]\n",
    "df_results = pd.DataFrame(columns=cols)\n",
    "\n",
    "def generate_summary(data, algo, k, train_time, rating_time, rating_metrics, ranking_time, ranking_metrics, diversity_metrics):\n",
    "    summary = {\"Data\": data, \"Algo\": algo, \"K\": k, \"Train time (s)\": train_time, \"Predicting time (s)\": rating_time, \"Recommending time (s)\":ranking_time}\n",
    "    if rating_metrics is None:\n",
    "        rating_metrics = {\n",
    "            \"RMSE\": np.nan,\n",
    "            \"MAE\": np.nan,\n",
    "            \"R2\": np.nan,\n",
    "            \"Explained Variance\": np.nan,\n",
    "        }\n",
    "    if ranking_metrics is None:\n",
    "        ranking_metrics = {\n",
    "            \"MAP\": np.nan,\n",
    "            \"nDCG@k\": np.nan,\n",
    "            \"Precision@k\": np.nan,\n",
    "            \"Recall@k\": np.nan,\n",
    "        }\n",
    "    if diversity_metrics is None:\n",
    "        diversity_metrics = {\n",
    "        \"Diversity\": np.nan,\n",
    "        \"Novelty\": np.nan,\n",
    "        \"Distributional coverage\": np.nan,\n",
    "        \"Catalog coverage\": np.nan,\n",
    "    }\n",
    "    summary.update(diversity_metrics)\n",
    "    summary.update(rating_metrics)\n",
    "    summary.update(ranking_metrics)\n",
    "\n",
    "    return summary\n",
    "\n",
    "\n",
    "def convert_timestamp(datetime):\n",
    "    date_string = str(datetime)\n",
    "    date = datetime.datetime.strptime(date_string, \"%m/%d/%Y\")\n",
    "    timestamp = datetime.datetime.timestamp(date)\n",
    "    return(timestamp)\n",
    "\n",
    "def preprocess_data(df):\n",
    "    # need to change the col name because the function created by MSFT are hard-coded\n",
    "    # Convert the float precision to 32-bit in order to reduce memory consumption \n",
    "    df.loc[:, header[\"col_rating\"]] = df[header[\"col_rating\"]].astype(np.float32)\n",
    "    df = df[[header[\"col_user\"],header[\"col_item\"],header[\"col_rating\"]]]\n",
    "    df = df.rename(columns={header[\"col_user\"]: \"userID\", header[\"col_item\"]: \"itemID\",header[\"col_rating\"]:\"rating\"})\n",
    "    return df \n",
    "\n",
    "def predict_and_calculate_metrics(svd,test):\n",
    "    predictions = predict(svd, test, usercol=header[\"col_user\"], itemcol=header[\"col_item\"])\n",
    "    eval_rmse = rmse(test, predictions, \n",
    "                     col_user = header[\"col_user\"],\n",
    "                     col_item = header[\"col_item\"],\n",
    "                     col_rating = header[\"col_rating\"],\n",
    "                     col_prediction = header[\"col_prediction\"]\n",
    "                    )\n",
    "    return(eval_rmse)\n",
    "    "
   ]
  },
  {
   "cell_type": "markdown",
   "id": "39af46c0-e0ce-4888-8729-2bd8501b62bf",
   "metadata": {},
   "source": [
    "# 0. Config params"
   ]
  },
  {
   "cell_type": "code",
   "execution_count": 12,
   "id": "b08ab576-c92b-4eb5-b610-0ec7c4812e94",
   "metadata": {},
   "outputs": [],
   "source": [
    "# table results \n",
    "algo = \"lfm\"\n",
    "ranking_metrics = None\n",
    "rating_metrics = None\n",
    "diversity_metrics = None\n",
    "train_time = np.nan\n",
    "rating_time = np.nan\n",
    "ranking_time = np.nan\n",
    "\n",
    "# column name \n",
    "header = {\n",
    "    \"col_user\": \"customer_id\",\n",
    "    \"col_item\": \"variant_id\",\n",
    "    \"col_rating\": \"quantity\",\n",
    "    \"col_timestamp\": \"order_date\",\n",
    "    \"col_prediction\": \"prediction\",\n",
    "}\n",
    "\n",
    "# top k\n",
    "TOP_K = 10\n",
    "\n",
    "################ TO MODIFY ################\n",
    "\n",
    "# date size with 3 choices : \"100k\",\"1M\" and \"all\"\n",
    "data_size = \"1M\"\n",
    "\n",
    "# load splitted data \n",
    "load_splitted_data = True \n",
    "\n",
    "################ TO MODIFY ################"
   ]
  },
  {
   "cell_type": "markdown",
   "id": "a940089b-6655-4937-bffd-1bfbcd007796",
   "metadata": {},
   "source": [
    "# 1. Data"
   ]
  },
  {
   "cell_type": "markdown",
   "id": "b2a7a91d-7ded-49a0-a8c2-3899926dcef4",
   "metadata": {},
   "source": [
    "# 1.1 Load data "
   ]
  },
  {
   "cell_type": "code",
   "execution_count": 13,
   "id": "d5921f03-ae02-47a7-a7c8-e8be710836ed",
   "metadata": {},
   "outputs": [],
   "source": [
    "########### TO MODIFY ###########\n",
    "def load_data(data_size):\n",
    "    path = \"\"\n",
    "    if data_size==\"100k\":\n",
    "        path = '../../data/transaction_100k_df.pkl'\n",
    "    elif data_size==\"1M\":\n",
    "        path = '../../data/transaction_1M_df.pkl'\n",
    "    elif data_size==\"all\":\n",
    "        path = '../../data/transaction_all_df.pkl'\n",
    "    \n",
    "    if path != \"\":\n",
    "        return pd.read_pickle(path)\n",
    "    else :\n",
    "        print(\"Please choose between 100k, 1M and all\")\n",
    "########### TO MODIFY ###########"
   ]
  },
  {
   "cell_type": "markdown",
   "id": "fe6b1ec2-8cef-4d98-86e8-cb3cabc40c65",
   "metadata": {},
   "source": [
    "## 1.2 Split data"
   ]
  },
  {
   "cell_type": "code",
   "execution_count": 14,
   "id": "b507ac49-3587-4636-88d6-bd790c2a0432",
   "metadata": {},
   "outputs": [],
   "source": [
    "# 2 ways to load the data\n",
    "if not load_splitted_data : \n",
    "    # data not splitted \n",
    "    data = load_data(data_size)\n",
    "else :\n",
    "    data = load_data(data_size)\n",
    "    # or  use stored splitted data to make it faster\n",
    "    train = pd.read_pickle(f\"../../data/train_{data_size}_df.pkl\")\n",
    "    test = pd.read_pickle(f\"../../data/test_{data_size}_df.pkl\")\n",
    "    train.shape[0], test.shape[0]"
   ]
  },
  {
   "cell_type": "code",
   "execution_count": 15,
   "id": "bb76d264-974e-4378-b723-78d0825fca38",
   "metadata": {},
   "outputs": [],
   "source": [
    "# chrono split but it is really slow ( +1h to split 8M data ) \n",
    "if not load_splitted_data :\n",
    "    train, test = python_chrono_split(data,\n",
    "                                      ratio=0.75,\n",
    "                                      col_user=header[\"col_user\"],\n",
    "                                      col_item=header[\"col_item\"],\n",
    "                                      col_timestamp = header[\"col_timestamp\"]\n",
    "                                     )\n",
    "    train.to_pickle(f\"../../data/train_{data_size}_df.pkl\")\n",
    "    test.to_pickle(f\"../../data/test_{data_size}_df.pkl\")\n",
    "    train.shape[0], test.shape[0]"
   ]
  },
  {
   "cell_type": "markdown",
   "id": "09087006-f2bf-4b52-8c13-a5305dd01a96",
   "metadata": {},
   "source": [
    "## 1.3 Process data"
   ]
  },
  {
   "cell_type": "code",
   "execution_count": 16,
   "id": "b871460c-ecc2-458b-a537-6514fd204c08",
   "metadata": {},
   "outputs": [],
   "source": [
    "data = preprocess_data(data)\n",
    "train = preprocess_data(train)\n",
    "test = preprocess_data(test)"
   ]
  },
  {
   "cell_type": "code",
   "execution_count": 17,
   "id": "92981a2f-1a89-49b5-bd15-6514516db6a1",
   "metadata": {},
   "outputs": [],
   "source": [
    "dataset = Dataset()\n",
    "dataset.fit(users=data[\"userID\"], \n",
    "            items=data[\"itemID\"])\n",
    "\n",
    "(interactions, weights) = dataset.build_interactions(data.iloc[:, 0:3].values)\n",
    "(train_interactions, train_weights) = dataset.build_interactions(train.iloc[:, 0:3].values)\n",
    "(test_interactions, test_weights) = dataset.build_interactions(test.iloc[:, 0:3].values)"
   ]
  },
  {
   "cell_type": "markdown",
   "id": "a3176133-f5f9-47ae-8926-be3f4579997f",
   "metadata": {},
   "source": [
    "## 1.3 Split data "
   ]
  },
  {
   "cell_type": "markdown",
   "id": "b23a6994-3d3a-4354-8b57-1ac74b68c01f",
   "metadata": {},
   "source": [
    "LightLM works slightly differently compared to other packages as it expects the train and test sets to have same dimension. Therefore the conventional train test split will not work.\n",
    "\n",
    "The package has included the `cross_validation.random_train_test_split` method to split the interaction data and splits it into two disjoint training and test sets. \n",
    "\n",
    "However, note that **it does not validate the interactions in the test set to guarantee all items and users have historical interactions in the training set**. Therefore this may result into a partial cold-start problem in the test set."
   ]
  },
  {
   "cell_type": "code",
   "execution_count": 18,
   "id": "6794d250-80a2-4ef3-8dd1-5b9e8dbecd4f",
   "metadata": {},
   "outputs": [
    {
     "name": "stdout",
     "output_type": "stream",
     "text": [
      "Shape of train interactions: (23079, 7259)\n",
      "Shape of test interactions: (23079, 7259)\n"
     ]
    }
   ],
   "source": [
    "#train_interactions, test_interactions = cross_validation.random_train_test_split(\n",
    "#    interactions, test_percentage=TEST_PERCENTAGE,\n",
    "#    random_state=np.random.RandomState(42))\n",
    "print(f\"Shape of train interactions: {train_interactions.shape}\")\n",
    "print(f\"Shape of test interactions: {test_interactions.shape}\")"
   ]
  },
  {
   "cell_type": "markdown",
   "id": "aab54151-edfc-4046-9289-7a52bc33c328",
   "metadata": {},
   "source": [
    "# 2. Model"
   ]
  },
  {
   "cell_type": "code",
   "execution_count": 19,
   "id": "9e675ec6-df68-4ae5-ba5f-341fbcb1fc3b",
   "metadata": {},
   "outputs": [],
   "source": [
    "# model learning rate\n",
    "LEARNING_RATE = 0.01\n",
    "# no of latent factors\n",
    "NO_COMPONENTS = 60\n",
    "# no of epochs to fit model\n",
    "NO_EPOCHS = 500\n",
    "# no of threads to fit model\n",
    "NO_THREADS = 4"
   ]
  },
  {
   "cell_type": "code",
   "execution_count": 20,
   "id": "c7d6cfcb-7277-4437-a0ca-6f182120b6a0",
   "metadata": {},
   "outputs": [],
   "source": [
    "model1 = LightFM(loss='warp', no_components=NO_COMPONENTS, \n",
    "                 learning_rate=LEARNING_RATE,                 \n",
    "                 random_state=np.random.RandomState(42))"
   ]
  },
  {
   "cell_type": "markdown",
   "id": "8f9ef54f-bd9f-4e6e-8d5f-8a9ae11fa722",
   "metadata": {},
   "source": [
    "## 2.2 Train model"
   ]
  },
  {
   "cell_type": "code",
   "execution_count": 21,
   "id": "0b09c927-ff01-461f-8c92-de4c159b4a8e",
   "metadata": {},
   "outputs": [
    {
     "name": "stderr",
     "output_type": "stream",
     "text": [
      "Epoch: 100%|██████████| 500/500 [23:23<00:00,  2.81s/it]\n"
     ]
    }
   ],
   "source": [
    "with Timer() as train_time:\n",
    "    model1.fit(interactions=train_interactions,\n",
    "              epochs=NO_EPOCHS,verbose = True);"
   ]
  },
  {
   "cell_type": "markdown",
   "id": "25a9e8f7-865b-4c69-b3ef-67c9739fe07e",
   "metadata": {},
   "source": [
    "## 2.4  recommend k items"
   ]
  },
  {
   "cell_type": "code",
   "execution_count": 22,
   "id": "3080d705-e3e2-4011-9a6c-eaa70296f88e",
   "metadata": {},
   "outputs": [],
   "source": [
    "uid_map, ufeature_map, iid_map, ifeature_map = dataset.mapping()"
   ]
  },
  {
   "cell_type": "code",
   "execution_count": null,
   "id": "3036e206-d143-4ae3-8933-b309c6da76e0",
   "metadata": {},
   "outputs": [],
   "source": [
    "with Timer() as ranking_time:\n",
    "    all_predictions = prepare_all_predictions(data, uid_map, iid_map, \n",
    "                                              interactions=train_interactions,\n",
    "                                              model=model1, \n",
    "                                              num_threads=NO_THREADS)"
   ]
  },
  {
   "cell_type": "code",
   "execution_count": null,
   "id": "ce1e2249-53e6-4a88-9395-2f7f67c95052",
   "metadata": {},
   "outputs": [],
   "source": [
    "top_k = get_top_k_items(all_predictions,col_user=\"userID\", col_rating=\"prediction\",k=TOP_K)"
   ]
  },
  {
   "cell_type": "markdown",
   "id": "c823aa31-fb1a-4221-a93a-712856c4f439",
   "metadata": {},
   "source": [
    "# 3. Evaluate"
   ]
  },
  {
   "cell_type": "markdown",
   "id": "c6ea896e-2479-494a-94c0-bcd0c4e7af4b",
   "metadata": {},
   "source": [
    "## 3.2 Ranking metrics "
   ]
  },
  {
   "cell_type": "code",
   "execution_count": null,
   "id": "17868dea-408d-46ff-89ad-3c7fa3a1cf02",
   "metadata": {},
   "outputs": [],
   "source": [
    "args = [test, top_k]\n",
    "\n",
    "kwargs = dict(relevancy_method = 'top_k', \n",
    "              k = TOP_K)\n",
    "\n",
    "eval_map = map_at_k(*args, **kwargs)\n",
    "eval_ndcg = ndcg_at_k(*args, **kwargs)\n",
    "eval_precision = precision_at_k(*args, **kwargs)\n",
    "eval_recall = recall_at_k(*args, **kwargs)\n",
    "    \n",
    "ranking_metrics = {\n",
    "    \"MAP\": eval_map,\n",
    "    \"nDCG@k\": eval_ndcg,\n",
    "    \"Precision@k\": eval_precision,\n",
    "    \"Recall@k\": eval_recall\n",
    "}\n",
    "\n",
    "print(f\"Model:\",\n",
    "      f\"Top K:\\t\\t {TOP_K}\",\n",
    "      f\"MAP:\\t\\t {eval_map:f}\",\n",
    "      f\"NDCG:\\t\\t {eval_ndcg:f}\",\n",
    "      f\"Precision@K:\\t {eval_precision:f}\",\n",
    "      f\"Recall@K:\\t {eval_recall:f}\",sep='\\n')"
   ]
  },
  {
   "cell_type": "markdown",
   "id": "aec48273-8945-4025-abb4-ec98552fdc8b",
   "metadata": {},
   "source": [
    "## 3.3 Diversity metrics"
   ]
  },
  {
   "cell_type": "code",
   "execution_count": null,
   "id": "79b8ecff-3987-475e-8549-2dd964024b70",
   "metadata": {},
   "outputs": [],
   "source": [
    "args = [train, top_k]\n",
    "\n",
    "kwargs = dict(col_user = \"userID\",\n",
    "              col_item = \"itemID\",\n",
    "             )\n",
    "\n",
    "eval_diversity = diversity(*args, **kwargs)\n",
    "eval_novelty = novelty(*args, **kwargs)\n",
    "eval_distributional_coverage = distributional_coverage(*args, **kwargs)\n",
    "eval_catalog_coverage = catalog_coverage(*args,**kwargs)\n",
    "\n",
    "diversity_metrics = {\n",
    "    \"Diversity\": eval_diversity,\n",
    "    \"Novelty\": eval_novelty,\n",
    "    \"Distributional coverage\": eval_distributional_coverage,\n",
    "    \"Catalog coverage\": eval_catalog_coverage,\n",
    "}\n",
    "\n",
    "print(f\"Model:\",\n",
    "      f\"Diversity :\\t\\t\\t {eval_diversity}\",\n",
    "      f\"Novelty:\\t\\t\\t {eval_novelty:f}\",\n",
    "      f\"Catalog coverage:\\t\\t {eval_catalog_coverage:f}\",\n",
    "      f\"Distributional coverage:\\t {eval_distributional_coverage:f}\",sep='\\n')"
   ]
  },
  {
   "cell_type": "markdown",
   "id": "5cba30e9-0480-4c15-acba-07166547dbf4",
   "metadata": {},
   "source": [
    "# 4 Summary"
   ]
  },
  {
   "cell_type": "code",
   "execution_count": null,
   "id": "98069e4d-3011-449a-9fa7-ed2a6f0b4f67",
   "metadata": {},
   "outputs": [],
   "source": [
    "summary = generate_summary(data_size,\n",
    "                           algo,\n",
    "                           TOP_K,\n",
    "                           train_time, \n",
    "                           rating_time,\n",
    "                           rating_metrics,\n",
    "                           ranking_time,\n",
    "                           ranking_metrics,\n",
    "                           diversity_metrics)\n",
    "df_results.loc[df_results.shape[0] + 1] = summary\n",
    "df_results"
   ]
  },
  {
   "cell_type": "markdown",
   "id": "8c1115f0-1a29-4043-b775-22ed04d6214e",
   "metadata": {},
   "source": [
    "# 5 Search"
   ]
  },
  {
   "cell_type": "code",
   "execution_count": 28,
   "id": "d64068a5-b1e0-4b29-93f7-8a180e7400a7",
   "metadata": {},
   "outputs": [],
   "source": [
    "# search for best param\n",
    "def search_param():\n",
    "    param_dict = {\n",
    "        \"no_components\": [5,10,20,40,60,80,100,200,300,500,1000],\n",
    "        \"learning_rate\": [0.0001,0.0005,0.001,0.005,0.01,0.05,0.1,0.5,1],\n",
    "    }\n",
    "    param_grid = generate_param_grid(param_dict)\n",
    "    precision_score = []\n",
    "    uid_map, ufeature_map, iid_map, ifeature_map = dataset.mapping()\n",
    "\n",
    "    for g in tqdm(param_grid):\n",
    "        model = LightFM(loss='warp',              \n",
    "                         random_state=np.random.RandomState(42),\n",
    "                         **g\n",
    "                        )\n",
    "        \n",
    "        model.fit(interactions=train_interactions,\n",
    "                   epochs=500\n",
    "                 )\n",
    "\n",
    "        #all_predictions = prepare_all_predictions(data, uid_map, iid_map, \n",
    "        #                                          interactions=train_interactions,\n",
    "        #                                          model=model, \n",
    "        #                                          num_threads=4)\n",
    "\n",
    "        #args = [test, all_predictions]\n",
    "\n",
    "        #kwargs = dict(relevancy_method = 'top_k', \n",
    "        #              k = TOP_K)\n",
    "        \n",
    "        eval_precision_lfm = lightfm_prec_at_k(model, test_interactions, \n",
    "                                       train_interactions, k=TOP_K).mean()\n",
    "        \n",
    "        #eval_precision = precision_at_k(*args, **kwargs)\n",
    "\n",
    "        precision_score.append(eval_precision_lfm)\n",
    "    \n",
    "    return precision_score\n",
    "\n",
    "def show_plot(precision_score):\n",
    "    param_dict = {\n",
    "        \"no_components\": [5,10,20,40,60,80,100,200,300,500,1000],\n",
    "        \"learning_rate\": [0.0001,0.0005,0.001,0.005,0.01,0.05,0.1,0.5,1],\n",
    "    }\n",
    "    precision_score = [float('%.4f' % x) for x in precision_score]\n",
    "    precision_score_array = np.reshape(precision_score, (len(param_dict[\"no_components\"]), len(param_dict[\"learning_rate\"]))) \n",
    "    precision_score_df = pd.DataFrame(data=precision_score_array, index=pd.Index(param_dict[\"no_components\"], name=\"no_components\"), \n",
    "                           columns=pd.Index(param_dict[\"learning_rate\"], name=\"learning_rate\"))\n",
    "    fig, ax = plt.subplots()\n",
    "    sns.heatmap(precision_score_df, cbar=False, annot=True, fmt=\".4g\")"
   ]
  },
  {
   "cell_type": "code",
   "execution_count": 29,
   "id": "a7e41118-65b3-410a-9924-7b806a068ce9",
   "metadata": {},
   "outputs": [
    {
     "data": {
      "application/vnd.jupyter.widget-view+json": {
       "model_id": "d7471fc883fa4f208c3a81532a610a83",
       "version_major": 2,
       "version_minor": 0
      },
      "text/plain": [
       "  0%|          | 0/99 [00:00<?, ?it/s]"
      ]
     },
     "metadata": {},
     "output_type": "display_data"
    }
   ],
   "source": [
    "score = search_param()"
   ]
  },
  {
   "cell_type": "code",
   "execution_count": 30,
   "id": "cfe1dfc1-83cb-43cd-8120-7d93a69da6b4",
   "metadata": {},
   "outputs": [
    {
     "data": {
      "image/png": "[encoded data removed]",
      "text/plain": [
       "<Figure size 432x288 with 1 Axes>"
      ]
     },
     "metadata": {
      "needs_background": "light"
     },
     "output_type": "display_data"
    }
   ],
   "source": [
    "show_plot(score)"
   ]
  }
 ],
 "metadata": {
  "kernelspec": {
   "display_name": "Python 3",
   "language": "python",
   "name": "python3"
  },
  "language_info": {
   "codemirror_mode": {
    "name": "ipython",
    "version": 3
   },
   "file_extension": ".py",
   "mimetype": "text/x-python",
   "name": "python",
   "nbconvert_exporter": "python",
   "pygments_lexer": "ipython3",
   "version": "3.6.13"
  }
 },
 "nbformat": 4,
 "nbformat_minor": 5
}
